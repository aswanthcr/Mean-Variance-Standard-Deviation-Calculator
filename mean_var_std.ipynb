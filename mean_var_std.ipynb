{
 "cells": [
  {
   "cell_type": "code",
   "execution_count": 26,
   "id": "98c22fab",
   "metadata": {},
   "outputs": [],
   "source": [
    "import numpy as np\n",
    "import random"
   ]
  },
  {
   "cell_type": "code",
   "execution_count": 27,
   "id": "bfe58dc5",
   "metadata": {},
   "outputs": [],
   "source": [
    "def calculate(x):\n",
    "    if len(x) != 9:\n",
    "        raise ValueError(\"list must contain 9 numbers\")\n",
    "    arr = np.array(x).reshape((3,3))\n",
    "    m1 = np.mean(arr,axis =1).tolist()\n",
    "    m2 = np.mean(arr,axis =0).tolist()\n",
    "    m3 = np.mean(arr).tolist()\n",
    "    var1 = np.var(arr, axis = 1).tolist()\n",
    "    var2 = np.var(arr, axis = 0).tolist()\n",
    "    var3 = np.var(arr).tolist()\n",
    "    std1 = np.std(arr, axis = 1).tolist()\n",
    "    std2 = np.std(arr, axis = 0).tolist()\n",
    "    std3 = np.std(arr).tolist()\n",
    "    max1 = np.max(arr, axis = 1).tolist()\n",
    "    max2 = np.max(arr, axis = 0).tolist()\n",
    "    max3 = np.max(arr).tolist()\n",
    "    min1 = np.min(arr, axis = 1).tolist()\n",
    "    min2 = np.min(arr, axis = 0).tolist()\n",
    "    min3 = np.min(arr).tolist()\n",
    "    sum1 = np.sum(arr, axis = 1).tolist()\n",
    "    sum2 = np.sum(arr, axis = 0).tolist()\n",
    "    sum3 = np.sum(arr).tolist()\n",
    "    d = {\n",
    "        'mean':[m1,m2,m3],\n",
    "        'variance':[var1,var2,var3],\n",
    "        'standard deviation':[std1,std2,std3],\n",
    "        'maximum':[max1,max2,max3],\n",
    "        'minimum':[min1,min2,min3],\n",
    "        'sum':[sum1,sum2,sum3]\n",
    "    }\n",
    "    return d"
   ]
  },
  {
   "cell_type": "code",
   "execution_count": 29,
   "id": "ebe3c50f",
   "metadata": {},
   "outputs": [
    {
     "name": "stdout",
     "output_type": "stream",
     "text": [
      "{'mean': [[54.666666666666664, 62.0, 63.0], [61.666666666666664, 55.666666666666664, 62.333333333333336], 59.888888888888886], 'variance': [[13.555555555555557, 6.0, 52.666666666666664], [72.22222222222221, 6.222222222222221, 8.222222222222221], 37.87654320987654], 'standard deviation': [[3.6817870057290873, 2.449489742783178, 7.2571803523590805], [8.498365855987974, 2.494438257849294, 2.8674417556808756], 6.1543921885005455], 'maximum': [[59, 65, 70], [70, 59, 66], 70], 'minimum': [[50, 59, 53], [50, 53, 59], 50], 'sum': [[164, 186, 189], [185, 167, 187], 539]}\n"
     ]
    }
   ],
   "source": [
    "try:\n",
    "    l1=[]\n",
    "    for i in range(0,9):\n",
    "        j = random.randint(50,70)\n",
    "        l1.append(j)\n",
    "    result = calculate(l1)\n",
    "    print(result)\n",
    "except ValueError as e:\n",
    "    print(\"Error:\", e)"
   ]
  }
 ],
 "metadata": {
  "kernelspec": {
   "display_name": "Python 3 (ipykernel)",
   "language": "python",
   "name": "python3"
  },
  "language_info": {
   "codemirror_mode": {
    "name": "ipython",
    "version": 3
   },
   "file_extension": ".py",
   "mimetype": "text/x-python",
   "name": "python",
   "nbconvert_exporter": "python",
   "pygments_lexer": "ipython3",
   "version": "3.10.9"
  }
 },
 "nbformat": 4,
 "nbformat_minor": 5
}
